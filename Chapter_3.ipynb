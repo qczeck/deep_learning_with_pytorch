{
  "cells": [
    {
      "cell_type": "markdown",
      "source": [
        "# Chapter 3: It starts with a tensor\n",
        "### Exercise 1. Create a tensor from a `list(range(9)`. Predict and then check the size, offset, and stride."
      ],
      "metadata": {
        "id": "xsf74oQtnyqM"
      },
      "id": "xsf74oQtnyqM"
    },
    {
      "cell_type": "code",
      "source": [
        "import torch"
      ],
      "metadata": {
        "id": "KMBw16l6ocfv"
      },
      "id": "KMBw16l6ocfv",
      "execution_count": 1,
      "outputs": []
    },
    {
      "cell_type": "code",
      "source": [
        "a = torch.tensor(list(range(9)))\n",
        "print(a.storage())\n",
        "print(a.storage_offset())\n",
        "print(a.stride())"
      ],
      "metadata": {
        "id": "0fQYlje0oe3i",
        "outputId": "e7111275-557c-41f3-a19f-904401194932",
        "colab": {
          "base_uri": "https://localhost:8080/"
        }
      },
      "id": "0fQYlje0oe3i",
      "execution_count": 9,
      "outputs": [
        {
          "output_type": "stream",
          "name": "stdout",
          "text": [
            " 0\n",
            " 1\n",
            " 2\n",
            " 3\n",
            " 4\n",
            " 5\n",
            " 6\n",
            " 7\n",
            " 8\n",
            "[torch.storage.TypedStorage(dtype=torch.int64, device=cpu) of size 9]\n",
            "0\n",
            "(1,)\n"
          ]
        }
      ]
    },
    {
      "cell_type": "markdown",
      "source": [
        "### a) Create a new tensor using `b=a.view(3, 3)`. What does `view` do? Check that `a` and `b` share the same storage."
      ],
      "metadata": {
        "id": "rvidcu9FpZDu"
      },
      "id": "rvidcu9FpZDu"
    },
    {
      "cell_type": "code",
      "source": [
        "b = a.view(3, 3)\n",
        "a.storage() == b.storage()"
      ],
      "metadata": {
        "id": "-pWTTapLpvGx",
        "outputId": "093d5336-6b4c-4723-b764-5698db7693d9",
        "colab": {
          "base_uri": "https://localhost:8080/"
        }
      },
      "id": "-pWTTapLpvGx",
      "execution_count": 12,
      "outputs": [
        {
          "output_type": "execute_result",
          "data": {
            "text/plain": [
              "False"
            ]
          },
          "metadata": {},
          "execution_count": 12
        }
      ]
    },
    {
      "cell_type": "markdown",
      "source": [
        "### b) Create a tensor `c = b[1:,1:]`. Predict and then check the size, offset, and\n",
        "stride."
      ],
      "metadata": {
        "id": "mtcIbR3wqPHo"
      },
      "id": "mtcIbR3wqPHo"
    },
    {
      "cell_type": "code",
      "source": [
        "c = b[1:,1:]\n",
        "print(c.size())\n",
        "print(c.storage_offset())\n",
        "print(c.stride())"
      ],
      "metadata": {
        "id": "A8Cg3klUqVUc",
        "outputId": "8feafd14-f697-461b-8921-d69d9d5a348c",
        "colab": {
          "base_uri": "https://localhost:8080/"
        }
      },
      "id": "A8Cg3klUqVUc",
      "execution_count": 14,
      "outputs": [
        {
          "output_type": "stream",
          "name": "stdout",
          "text": [
            "torch.Size([2, 2])\n",
            "4\n",
            "(3, 1)\n"
          ]
        }
      ]
    },
    {
      "cell_type": "markdown",
      "source": [
        "### Exercise 2. Pick a mathematical operation like cosine or square root. Can you find a corresponding function in the `torch` library?\n",
        "### a) Apply the function element-wise to a. Why does it return an error?"
      ],
      "metadata": {
        "id": "AlY2i6Mkq1SF"
      },
      "id": "AlY2i6Mkq1SF"
    },
    {
      "cell_type": "code",
      "source": [
        "torch.sqrt(a)"
      ],
      "metadata": {
        "id": "kWq7Z4plrDNg",
        "outputId": "c099fc78-846e-4d6b-cc78-5b7bc479d45e",
        "colab": {
          "base_uri": "https://localhost:8080/"
        }
      },
      "id": "kWq7Z4plrDNg",
      "execution_count": 29,
      "outputs": [
        {
          "output_type": "execute_result",
          "data": {
            "text/plain": [
              "tensor([0.0000, 1.0000, 1.4142, 1.7321, 2.0000, 2.2361, 2.4495, 2.6458, 2.8284])"
            ]
          },
          "metadata": {},
          "execution_count": 29
        }
      ]
    },
    {
      "cell_type": "code",
      "source": [
        "a = a.to(torch.float32)\n",
        "torch.sqrt_(a)"
      ],
      "metadata": {
        "id": "R7t52ItLvVwa",
        "outputId": "7bf97ab5-e12b-48ac-c5a8-a39f6a6d1fc1",
        "colab": {
          "base_uri": "https://localhost:8080/"
        }
      },
      "id": "R7t52ItLvVwa",
      "execution_count": 31,
      "outputs": [
        {
          "output_type": "execute_result",
          "data": {
            "text/plain": [
              "tensor([0.0000, 1.0000, 1.4142, 1.7321, 2.0000, 2.2361, 2.4495, 2.6458, 2.8284])"
            ]
          },
          "metadata": {},
          "execution_count": 31
        }
      ]
    }
  ],
  "metadata": {
    "kernelspec": {
      "display_name": "",
      "name": ""
    },
    "language_info": {
      "name": ""
    },
    "colab": {
      "provenance": []
    }
  },
  "nbformat": 4,
  "nbformat_minor": 5
}